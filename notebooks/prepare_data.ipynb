{
 "cells": [
  {
   "cell_type": "code",
   "execution_count": 2,
   "metadata": {},
   "outputs": [],
   "source": [
    "import glob\n",
    "import pandas as pd\n",
    "import numpy as np\n",
    "from matplotlib import pyplot\n",
    "plt = pyplot\n",
    "import matplotlib\n",
    "from page_xml_gen import page_sub as pxg\n",
    "from PIL import Image, ImageDraw, ImageFont\n",
    "\n",
    "pyplot.style.use('dark_background')\n",
    "\n",
    "boeken_tifs = sorted(glob.glob('../data/boeken/images/*.tif'))\n",
    "boeken_xml = sorted(glob.glob('../data/boeken/xml/*.xml'))\n",
    "boeken_meta = pd.read_csv('../data/boeken/meta.csv', skiprows=2).sort_values('Did').reset_index(drop=True)\n",
    "\n",
    "kranten_tifs = sorted(glob.glob('../data/kranten/images/*.tif'))\n",
    "kranten_xml = sorted(glob.glob('../data/kranten/xml/*.xml'))\n",
    "kranten_meta = pd.read_csv('../data/kranten/meta.csv', skiprows=2).sort_values('Did').reset_index(drop=True)"
   ]
  },
  {
   "cell_type": "code",
   "execution_count": 13,
   "metadata": {},
   "outputs": [
    {
     "data": {
      "text/html": [
       "<div>\n",
       "<style scoped>\n",
       "    .dataframe tbody tr th:only-of-type {\n",
       "        vertical-align: middle;\n",
       "    }\n",
       "\n",
       "    .dataframe tbody tr th {\n",
       "        vertical-align: top;\n",
       "    }\n",
       "\n",
       "    .dataframe thead th {\n",
       "        text-align: right;\n",
       "    }\n",
       "</style>\n",
       "<table border=\"1\" class=\"dataframe\">\n",
       "  <thead>\n",
       "    <tr style=\"text-align: right;\">\n",
       "      <th></th>\n",
       "      <th>Dtitle</th>\n",
       "      <th>0</th>\n",
       "    </tr>\n",
       "  </thead>\n",
       "  <tbody>\n",
       "    <tr>\n",
       "      <th>0</th>\n",
       "      <td>Beschryvinge der stadt Utrecht.</td>\n",
       "      <td>18</td>\n",
       "    </tr>\n",
       "    <tr>\n",
       "      <th>1</th>\n",
       "      <td>Extra tyding. Extract uit de resolutien der he...</td>\n",
       "      <td>5</td>\n",
       "    </tr>\n",
       "    <tr>\n",
       "      <th>2</th>\n",
       "      <td>Feest en lydens stoffen voor de hervormde geme...</td>\n",
       "      <td>99</td>\n",
       "    </tr>\n",
       "    <tr>\n",
       "      <th>3</th>\n",
       "      <td>Gelegentheyt van 'sHertogen-Bosch, Vierde Hoof...</td>\n",
       "      <td>438</td>\n",
       "    </tr>\n",
       "    <tr>\n",
       "      <th>4</th>\n",
       "      <td>Kort begrip der waereld-historie voor de jeugd...</td>\n",
       "      <td>343</td>\n",
       "    </tr>\n",
       "    <tr>\n",
       "      <th>5</th>\n",
       "      <td>Philadelphus aan zijnen broeder [...] ter vera...</td>\n",
       "      <td>371</td>\n",
       "    </tr>\n",
       "    <tr>\n",
       "      <th>6</th>\n",
       "      <td>Rechtsgeleerd advis in de zaak van den gewezen...</td>\n",
       "      <td>88</td>\n",
       "    </tr>\n",
       "    <tr>\n",
       "      <th>7</th>\n",
       "      <td>Verhaal van het levensgevaar, waar in zig drie...</td>\n",
       "      <td>11</td>\n",
       "    </tr>\n",
       "    <tr>\n",
       "      <th>8</th>\n",
       "      <td>Verhandelingen van het Genootschap ter bevorde...</td>\n",
       "      <td>331</td>\n",
       "    </tr>\n",
       "    <tr>\n",
       "      <th>9</th>\n",
       "      <td>Verzameling van placaaten, resolutien en ander...</td>\n",
       "      <td>338</td>\n",
       "    </tr>\n",
       "    <tr>\n",
       "      <th>10</th>\n",
       "      <td>Vrijmoedige aanmerkingen, over de uitsluiting ...</td>\n",
       "      <td>13</td>\n",
       "    </tr>\n",
       "  </tbody>\n",
       "</table>\n",
       "</div>"
      ],
      "text/plain": [
       "                                               Dtitle    0\n",
       "0                     Beschryvinge der stadt Utrecht.   18\n",
       "1   Extra tyding. Extract uit de resolutien der he...    5\n",
       "2   Feest en lydens stoffen voor de hervormde geme...   99\n",
       "3   Gelegentheyt van 'sHertogen-Bosch, Vierde Hoof...  438\n",
       "4   Kort begrip der waereld-historie voor de jeugd...  343\n",
       "5   Philadelphus aan zijnen broeder [...] ter vera...  371\n",
       "6   Rechtsgeleerd advis in de zaak van den gewezen...   88\n",
       "7   Verhaal van het levensgevaar, waar in zig drie...   11\n",
       "8   Verhandelingen van het Genootschap ter bevorde...  331\n",
       "9   Verzameling van placaaten, resolutien en ander...  338\n",
       "10  Vrijmoedige aanmerkingen, over de uitsluiting ...   13"
      ]
     },
     "execution_count": 13,
     "metadata": {},
     "output_type": "execute_result"
    }
   ],
   "source": [
    "boeken_meta.groupby('Dtitle').size().reset_index()"
   ]
  },
  {
   "cell_type": "code",
   "execution_count": 28,
   "metadata": {},
   "outputs": [
    {
     "name": "stdout",
     "output_type": "stream",
     "text": [
      "                                               Dtitle   0\n",
      "0                     Beschryvinge der stadt Utrecht.   2\n",
      "1   Extra tyding. Extract uit de resolutien der he...   1\n",
      "2   Feest en lydens stoffen voor de hervormde geme...  10\n",
      "3   Gelegentheyt van 'sHertogen-Bosch, Vierde Hoof...  44\n",
      "4   Kort begrip der waereld-historie voor de jeugd...  34\n",
      "5   Philadelphus aan zijnen broeder [...] ter vera...  37\n",
      "6   Rechtsgeleerd advis in de zaak van den gewezen...   9\n",
      "7   Verhaal van het levensgevaar, waar in zig drie...   1\n",
      "8   Verhandelingen van het Genootschap ter bevorde...  33\n",
      "9   Verzameling van placaaten, resolutien en ander...  34\n",
      "10  Vrijmoedige aanmerkingen, over de uitsluiting ...   1\n",
      "\n",
      "                                               Dtitle    0\n",
      "0                     Beschryvinge der stadt Utrecht.   16\n",
      "1   Extra tyding. Extract uit de resolutien der he...    4\n",
      "2   Feest en lydens stoffen voor de hervormde geme...   89\n",
      "3   Gelegentheyt van 'sHertogen-Bosch, Vierde Hoof...  394\n",
      "4   Kort begrip der waereld-historie voor de jeugd...  309\n",
      "5   Philadelphus aan zijnen broeder [...] ter vera...  334\n",
      "6   Rechtsgeleerd advis in de zaak van den gewezen...   79\n",
      "7   Verhaal van het levensgevaar, waar in zig drie...   10\n",
      "8   Verhandelingen van het Genootschap ter bevorde...  298\n",
      "9   Verzameling van placaaten, resolutien en ander...  304\n",
      "10  Vrijmoedige aanmerkingen, over de uitsluiting ...   12\n"
     ]
    }
   ],
   "source": [
    "test_set = boeken_meta.groupby('Dtitle', group_keys=False).apply(lambda x: x.sample(max(round(len(x)/10), 1)))\n",
    "train_set = boeken_meta.copy().drop(test_set.index)\n",
    "print(test_set.groupby('Dtitle').size().reset_index())\n",
    "print('')\n",
    "print(train_set.groupby('Dtitle').size().reset_index())"
   ]
  },
  {
   "cell_type": "code",
   "execution_count": 55,
   "metadata": {},
   "outputs": [],
   "source": [
    "xml_files = ' '.join(['00' + str(id) + '.xml' for id in test_set[\"Did\"].tolist()])\n",
    "!cd ../data/boeken/xml && tar cf ../../test_data_gt.tar $xml_files\n",
    "tif_files = ' '.join(['00' + str(id) + '.tif' for id in test_set[\"Did\"].tolist()])\n",
    "!cd ../data/boeken/images && tar cf ../../test_data.tar $tif_files"
   ]
  },
  {
   "cell_type": "code",
   "execution_count": 56,
   "metadata": {},
   "outputs": [],
   "source": [
    "xml_files = ' '.join(['00' + str(id) + '.xml' for id in train_set[\"Did\"].tolist()])\n",
    "!cd ../data/boeken/xml && tar cf ../../train_data_gt.tar $xml_files\n",
    "tif_files = ' '.join(['00' + str(id) + '.tif' for id in train_set[\"Did\"].tolist()])\n",
    "!cd ../data/boeken/images && tar cf ../../train_data.tar $tif_files"
   ]
  }
 ],
 "metadata": {
  "kernelspec": {
   "display_name": "Python 3",
   "language": "python",
   "name": "python3"
  },
  "language_info": {
   "codemirror_mode": {
    "name": "ipython",
    "version": 3
   },
   "file_extension": ".py",
   "mimetype": "text/x-python",
   "name": "python",
   "nbconvert_exporter": "python",
   "pygments_lexer": "ipython3",
   "version": "3.7.6"
  }
 },
 "nbformat": 4,
 "nbformat_minor": 4
}
