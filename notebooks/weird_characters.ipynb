{
 "cells": [
  {
   "cell_type": "code",
   "execution_count": 5,
   "metadata": {},
   "outputs": [],
   "source": [
    "from glob import glob\n",
    "from page_xml_gen import page_sub as pxg\n",
    "import codecs\n",
    "import pandas as pd\n",
    "import unicodedata\n",
    "from itertools import groupby\n",
    "\n",
    "data = sorted(glob('../data/boeken/xml/*.xml'))\n",
    "full_str=''\n",
    "for filename in data:\n",
    "    with open(filename, 'r') as f:\n",
    "       full_str += f.read()\n",
    "l = sorted(list(full_str))\n",
    "\n",
    "df = pd.DataFrame([(\n",
    "        a,\n",
    "        a.encode('utf-8').hex(),\n",
    "        hex(ord(a)),\n",
    "        len(list(b)),\n",
    "        unicodedata.name(a, '???')\n",
    "    ) for (a,b) in groupby(l)], columns=['repr', 'bytes(hex)', 'codepoint', 'frequency', 'name'])"
   ]
  },
  {
   "cell_type": "code",
   "execution_count": 4,
   "metadata": {},
   "outputs": [
    {
     "data": {
      "text/html": [
       "<div>\n",
       "<style scoped>\n",
       "    .dataframe tbody tr th:only-of-type {\n",
       "        vertical-align: middle;\n",
       "    }\n",
       "\n",
       "    .dataframe tbody tr th {\n",
       "        vertical-align: top;\n",
       "    }\n",
       "\n",
       "    .dataframe thead th {\n",
       "        text-align: right;\n",
       "    }\n",
       "</style>\n",
       "<table border=\"1\" class=\"dataframe\">\n",
       "  <thead>\n",
       "    <tr style=\"text-align: right;\">\n",
       "      <th></th>\n",
       "      <th>repr</th>\n",
       "      <th>bytes(hex)</th>\n",
       "      <th>codepoint</th>\n",
       "      <th>frequency</th>\n",
       "      <th>name</th>\n",
       "    </tr>\n",
       "  </thead>\n",
       "  <tbody>\n",
       "  </tbody>\n",
       "</table>\n",
       "</div>"
      ],
      "text/plain": [
       "Empty DataFrame\n",
       "Columns: [repr, bytes(hex), codepoint, frequency, name]\n",
       "Index: []"
      ]
     },
     "execution_count": 4,
     "metadata": {},
     "output_type": "execute_result"
    }
   ],
   "source": [
    "pd.set_option('display.max_rows', 1000)\n",
    "df = df[df['bytes(hex)'].str.len() > 2]\n",
    "df.sort_values('frequency', ascending=False)"
   ]
  }
 ],
 "metadata": {
  "kernelspec": {
   "display_name": "Python 3",
   "language": "python",
   "name": "python3"
  },
  "language_info": {
   "codemirror_mode": {
    "name": "ipython",
    "version": 3
   },
   "file_extension": ".py",
   "mimetype": "text/x-python",
   "name": "python",
   "nbconvert_exporter": "python",
   "pygments_lexer": "ipython3",
   "version": "3.7.6"
  }
 },
 "nbformat": 4,
 "nbformat_minor": 4
}
